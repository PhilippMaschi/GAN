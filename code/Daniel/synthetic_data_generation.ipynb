{
 "cells": [
  {
   "cell_type": "code",
   "execution_count": 3,
   "metadata": {},
   "outputs": [],
   "source": [
    "import pandas as pd\n",
    "import matplotlib.pyplot as plt\n",
    "import seaborn as sns\n",
    "sns.set_theme()\n",
    "from datetime import datetime as dt\n",
    "from gretel_synthetics.timeseries_dgan.config import DGANConfig\n",
    "from gretel_synthetics.timeseries_dgan.dgan import DGAN"
   ]
  },
  {
   "cell_type": "markdown",
   "metadata": {},
   "source": [
    "##### Import load profiles and remove incomplete days"
   ]
  },
  {
   "cell_type": "code",
   "execution_count": null,
   "metadata": {},
   "outputs": [],
   "source": [
    "loadProfiles_df = pd.read_parquet(r'data/load_profiles.parquet.gzip')"
   ]
  },
  {
   "cell_type": "code",
   "execution_count": null,
   "metadata": {},
   "outputs": [],
   "source": [
    "def remove_incomplete_days(df):\n",
    "    temp_df = df.groupby('date').count()\n",
    "    incompleteDays = temp_df[(temp_df < 24).any(axis = 1)].index\n",
    "    df = df.loc[~df['date'].isin(incompleteDays)]\n",
    "    return df"
   ]
  },
  {
   "cell_type": "code",
   "execution_count": null,
   "metadata": {},
   "outputs": [],
   "source": [
    "loadProfiles_df = remove_incomplete_days(loadProfiles_df)"
   ]
  },
  {
   "cell_type": "markdown",
   "metadata": {},
   "source": [
    "##### Select and visualize profile"
   ]
  },
  {
   "cell_type": "code",
   "execution_count": null,
   "metadata": {},
   "outputs": [],
   "source": [
    "profile = '16'"
   ]
  },
  {
   "cell_type": "code",
   "execution_count": null,
   "metadata": {},
   "outputs": [],
   "source": [
    "def plot_profile(df, profile, x = 'date', custom_title = None):\n",
    "    fig = plt.figure(figsize = (12, 4), facecolor = 'w')\n",
    "    plt.plot(df[x], df[profile])\n",
    "    plt.title(f'Profile {profile}' if not custom_title else custom_title, fontsize = 16)\n",
    "    plt.xlabel(x.capitalize(), fontsize = 14)\n",
    "    plt.xticks(fontsize = 12.5)\n",
    "    plt.ylabel('Consumed energy [Wh]', fontsize = 14)\n",
    "    plt.yticks(fontsize = 12.5)\n",
    "    plt.close()\n",
    "    return fig\n",
    "\n",
    "\n",
    "def plot_subsequence(df, profile, date):\n",
    "    temp_df = df[df['date'] == dt.strptime(date, '%Y-%m-%d').date()]\n",
    "    fig = plot_profile(temp_df, profile, 'hour of the day', f\"Profile {profile}\\n{temp_df['date'].unique()[0]}\")\n",
    "    return fig"
   ]
  },
  {
   "cell_type": "code",
   "execution_count": null,
   "metadata": {},
   "outputs": [],
   "source": [
    "plot_profile(loadProfiles_df, profile)"
   ]
  },
  {
   "cell_type": "code",
   "execution_count": null,
   "metadata": {},
   "outputs": [],
   "source": [
    "plot_subsequence(loadProfiles_df, profile, '2021-06-03')"
   ]
  },
  {
   "cell_type": "markdown",
   "metadata": {},
   "source": [
    "##### Create and train model (can be skipped if model already exists)"
   ]
  },
  {
   "cell_type": "code",
   "execution_count": null,
   "metadata": {},
   "outputs": [],
   "source": [
    "config = DGANConfig(\n",
    "    max_sequence_len = 24,\n",
    "    sample_len = 1,\n",
    "    feature_noise_dim = 32,\n",
    "    feature_num_layers = 1,\n",
    "    feature_num_units = 100,\n",
    "    apply_feature_scaling = True,\n",
    "    apply_example_scaling = False,\n",
    "    generator_learning_rate = 2*1e-5,\n",
    "    discriminator_learning_rate = 2*1e-5,\n",
    "    attribute_discriminator_learning_rate = 2*1e-5,\n",
    "    batch_size = 100,\n",
    "    epochs = 10000,\n",
    "    attribute_loss_coef = 10\n",
    ")"
   ]
  },
  {
   "cell_type": "code",
   "execution_count": null,
   "metadata": {},
   "outputs": [],
   "source": [
    "model = DGAN(config)"
   ]
  },
  {
   "cell_type": "code",
   "execution_count": null,
   "metadata": {},
   "outputs": [],
   "source": [
    "dateIndex_dict = {item: idx for idx, item in enumerate(loadProfiles_df['date'].unique())}\n",
    "loadProfiles_df['date index'] = loadProfiles_df['date'].map(dateIndex_dict)"
   ]
  },
  {
   "cell_type": "code",
   "execution_count": null,
   "metadata": {},
   "outputs": [],
   "source": [
    "profile = '16'\n",
    "attributes = ['month of the year', 'day off']\n",
    "\n",
    "model.train_dataframe(\n",
    "   loadProfiles_df,\n",
    "   attribute_columns = attributes,\n",
    "   feature_columns = [profile],\n",
    "   example_id_column = 'date index',\n",
    "   time_column = 'timestamp',\n",
    "   discrete_columns = attributes,\n",
    "   df_style = 'long'\n",
    ")"
   ]
  },
  {
   "cell_type": "code",
   "execution_count": null,
   "metadata": {},
   "outputs": [],
   "source": [
    "model.save('models/model.DGAN')"
   ]
  },
  {
   "cell_type": "markdown",
   "metadata": {},
   "source": [
    "##### Import existing model"
   ]
  },
  {
   "cell_type": "code",
   "execution_count": null,
   "metadata": {},
   "outputs": [],
   "source": [
    "profile = '16'\n",
    "attributes = ['month of the year', 'day off']\n",
    "\n",
    "model = DGAN.load('models/model.DGAN')"
   ]
  },
  {
   "cell_type": "markdown",
   "metadata": {},
   "source": [
    "##### Create and visualize synthetic data"
   ]
  },
  {
   "cell_type": "code",
   "execution_count": null,
   "metadata": {},
   "outputs": [],
   "source": [
    "syntheticProfiles_df = model.generate_dataframe(500)"
   ]
  },
  {
   "cell_type": "code",
   "execution_count": null,
   "metadata": {},
   "outputs": [],
   "source": [
    "from math import ceil\n",
    "from matplotlib.lines import Line2D\n",
    "\n",
    "ncols = 4\n",
    "plotCount = len(syntheticProfiles_df.groupby(attributes).count())\n",
    "nrows = ceil(plotCount/ncols)\n",
    "fig, axes = plt.subplots(nrows = nrows, ncols = ncols, figsize = (5*ncols, 4*nrows), facecolor = 'w')\n",
    "axes_list = axes.reshape(-1)\n",
    "axesCount = 0\n",
    "for month in syntheticProfiles_df['month of the year'].unique():\n",
    "    for day_off in syntheticProfiles_df['day off'].unique():\n",
    "        tempSynth_df = syntheticProfiles_df.query(\"`month of the year` == @month & `day off` == @day_off\").copy()\n",
    "        if len(tempSynth_df) > 0:\n",
    "        \n",
    "            tempSynth_df['hour of the day'] = tempSynth_df['timestamp'].dt.hour + 1\n",
    "            tempSynth_df = tempSynth_df.pivot_table(values = profile, index = 'date index', columns = 'hour of the day')\n",
    "            tempReal_df = loadProfiles_df.query(\"`month of the year` == @month & `day off` == @day_off\").copy()\n",
    "            tempReal_df = tempReal_df.pivot_table(values = profile, index = 'date', columns = 'hour of the day')\n",
    "            title = f'month: {month} | day off: {day_off} | count: {len(tempSynth_df)}'\n",
    "            tempSynthPlot = tempSynth_df.T.plot(color = 'red', title = title, alpha = 0.5, legend = False, ax = axes_list[axesCount])\n",
    "            tempRealPlot = tempReal_df.T.plot(legend = False,  color = 'grey', alpha = 0.5, ax = axes_list[axesCount])\n",
    "            tempRealPlot.set(xlabel = None, ylabel = None)\n",
    "            axesCount += 1\n",
    "        else:\n",
    "            print(f'Missing: month: {month} | day off: {day_off}')\n",
    "plt.tight_layout()\n",
    "for idx in range(axesCount, nrows*ncols):\n",
    "    axes_list[idx].axis('off')\n",
    "fig.text(0.5, -0.01, 'Hour of the day', ha = 'center', fontsize = 18)\n",
    "fig.text(-0.01, 0.5, 'Consumed energy [Wh]', va = 'center', rotation = 'vertical', fontsize = 18)\n",
    "legendElements = [\n",
    "    Line2D([0], [0], marker = 'o', color = 'w', label = 'Synthetic', markerfacecolor = 'red', markersize = 15),\n",
    "    Line2D([0], [0], marker = 'o', color = 'w', label = 'Real', markerfacecolor = 'grey', markersize = 15)\n",
    "]\n",
    "axes_list[0].legend(handles = legendElements, loc = 2);"
   ]
  },
  {
   "cell_type": "code",
   "execution_count": null,
   "metadata": {},
   "outputs": [],
   "source": [
    "fig.savefig(f'results/results_profile_{profile}.png', bbox_inches = 'tight')"
   ]
  },
  {
   "cell_type": "code",
   "execution_count": null,
   "metadata": {},
   "outputs": [],
   "source": []
  },
  {
   "cell_type": "code",
   "execution_count": null,
   "metadata": {},
   "outputs": [],
   "source": []
  },
  {
   "cell_type": "code",
   "execution_count": null,
   "metadata": {},
   "outputs": [],
   "source": []
  }
 ],
 "metadata": {
  "kernelspec": {
   "display_name": "Python 3.10.4 ('DoppelGANger')",
   "language": "python",
   "name": "python3"
  },
  "language_info": {
   "codemirror_mode": {
    "name": "ipython",
    "version": 3
   },
   "file_extension": ".py",
   "mimetype": "text/x-python",
   "name": "python",
   "nbconvert_exporter": "python",
   "pygments_lexer": "ipython3",
   "version": "3.10.8"
  },
  "orig_nbformat": 4,
  "vscode": {
   "interpreter": {
    "hash": "79b4750ed2717c744363ddeeb308685b8aa38c66aec97c408e6db81441baebf7"
   }
  }
 },
 "nbformat": 4,
 "nbformat_minor": 2
}

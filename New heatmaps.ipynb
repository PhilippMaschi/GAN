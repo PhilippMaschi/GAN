{
 "cells": [
  {
   "cell_type": "markdown",
   "metadata": {},
   "source": [
    "### New heatmaps"
   ]
  },
  {
   "cell_type": "code",
   "execution_count": null,
   "metadata": {},
   "outputs": [],
   "source": [
    "from sklearn.preprocessing import minmax_scale\n",
    "\n",
    "def scale(group, col):\n",
    "    group[col] = minmax_scale(group[col])\n",
    "    return group"
   ]
  },
  {
   "cell_type": "code",
   "execution_count": null,
   "metadata": {},
   "outputs": [],
   "source": [
    "import pandas as pd\n",
    "\n",
    "ENERCOOP_df = pd.read_parquet(r'data/ENERCOOP_load_profiles.parquet.gzip')\n",
    "ENERCOOPNorm_df = ENERCOOP_df.groupby('Profile').apply(scale, col = 'Consumed energy [Wh]')"
   ]
  },
  {
   "cell_type": "markdown",
   "metadata": {},
   "source": [
    "##### Create average days"
   ]
  },
  {
   "cell_type": "code",
   "execution_count": null,
   "metadata": {},
   "outputs": [],
   "source": [
    "import numpy as np\n",
    "\n",
    "df = ENERCOOPNorm_df.groupby(['Profile', 'Meteorological season', 'Hour of the day', 'Weekend']).agg({'Consumed energy [Wh]': np.mean})\n",
    "df.reset_index(inplace = True)\n",
    "df['Hour of the day'] = df['Hour of the day'].astype(str)\n",
    "conditions = [\n",
    "    df['Hour of the day'] ==  '1', df['Hour of the day'] ==  '2', df['Hour of the day'] ==  '3', df['Hour of the day'] ==  '21', df['Hour of the day'] ==  '22', df['Hour of the day'] ==  '23', True\n",
    "]\n",
    "choices = [df['Hour of the day'] + item for item in ['st hour', 'nd hour', 'rd hour', 'st hour', 'nd hour', 'rd hour', 'th hour']]\n",
    "df['Mean scaled consumed energy'] = df['Meteorological season'] + np.where(df['Weekend'] == True, ', weekend, ', ', weekday, ') + np.select(conditions, choices)\n",
    "df = df.pivot_table(values = 'Consumed energy [Wh]', index = 'Profile', columns = 'Mean scaled consumed energy')"
   ]
  },
  {
   "cell_type": "code",
   "execution_count": null,
   "metadata": {},
   "outputs": [],
   "source": [
    "seasons = ['Spring', 'Fall', 'Summer', 'Winter']\n",
    "dayTypes = ['weekday', 'weekend']\n",
    "hours = ['1st', '2nd', '3rd'] + [f'{item}th' for item in range(4, 21)] + ['21st', '22nd', '23rd'] + ['24th']\n",
    "cols = [f'{season}, {dayType}, {hour} hour' for season in seasons for dayType in dayTypes for hour in hours]\n",
    "df = df[cols]"
   ]
  },
  {
   "cell_type": "code",
   "execution_count": null,
   "metadata": {},
   "outputs": [],
   "source": [
    "energyNorm_df = ENERCOOPNorm_df.pivot_table(values = 'Consumed energy [Wh]', index = 'Profile', columns = 'Date')"
   ]
  },
  {
   "cell_type": "markdown",
   "metadata": {},
   "source": [
    "##### Cluster by average days and create heatmaps of full time series"
   ]
  },
  {
   "cell_type": "code",
   "execution_count": null,
   "metadata": {},
   "outputs": [],
   "source": [
    "all_labels = []\n",
    "\n",
    "from tqdm.notebook import tqdm\n",
    "from tslearn.clustering import TimeSeriesKMeans\n",
    "import matplotlib.pyplot as plt\n",
    "from math import ceil\n",
    "import seaborn as sns\n",
    "\n",
    "\n",
    "for clusterCount in tqdm(range(4, 21)):\n",
    "    model = TimeSeriesKMeans(n_clusters = clusterCount, metric = 'dtw', max_iter = 10, n_jobs = -1, random_state = 42)\n",
    "    labels = model.fit_predict(df)\n",
    "    all_labels.append(labels)\n",
    "\n",
    "    fig, axes = plt.subplots(nrows = ceil(clusterCount/3), ncols = 3, figsize = (36, ceil(clusterCount/3)*8), facecolor = 'w')\n",
    "    for idx, ax in enumerate(axes.flat):\n",
    "        if idx < clusterCount:\n",
    "            temp_df = energyNorm_df[labels == idx]\n",
    "            sns.heatmap(temp_df, cbar = False, ax = ax)\n",
    "            plt.sca(ax)\n",
    "            plt.title(f'Cluster Nr. {idx}: {round(100*sum(labels == idx)/len(labels), 2)} % of all profiles ({sum(labels == idx)})', fontsize = 24)\n",
    "            plt.xlabel(None)\n",
    "            plt.xticks([])\n",
    "            plt.ylabel(None)\n",
    "            plt.yticks([])\n",
    "            plt.tight_layout()\n",
    "            plt.close()\n",
    "    fig.savefig(f'{clusterCount} clusters')"
   ]
  },
  {
   "cell_type": "code",
   "execution_count": null,
   "metadata": {},
   "outputs": [],
   "source": [
    "import pickle\n",
    "\n",
    "with open('all_labels.pickle', 'wb') as outfile:\n",
    "    pickle.dump(all_labels, outfile)"
   ]
  },
  {
   "cell_type": "markdown",
   "metadata": {},
   "source": [
    "#### Moving average test"
   ]
  },
  {
   "cell_type": "code",
   "execution_count": null,
   "metadata": {},
   "outputs": [],
   "source": [
    "display(energyNorm_df.iloc[0].plot());\n",
    "plt.show()\n",
    "plt.close()\n",
    "display(energyNorm_df.iloc[1].plot())\n",
    "plt.show()\n",
    "plt.close()\n",
    "display(energyNorm_df.iloc[2].plot())\n",
    "plt.show()\n",
    "plt.close()"
   ]
  },
  {
   "cell_type": "code",
   "execution_count": null,
   "metadata": {},
   "outputs": [],
   "source": [
    "energyNormSmooth_df = energyNorm_df.rolling(window = 24, axis = 1).mean().iloc[:, 23:]"
   ]
  },
  {
   "cell_type": "code",
   "execution_count": null,
   "metadata": {},
   "outputs": [],
   "source": [
    "display(energyNormSmooth_df.iloc[0].plot());\n",
    "plt.show()\n",
    "plt.close()\n",
    "display(energyNormSmooth_df.iloc[1].plot())\n",
    "plt.show()\n",
    "plt.close()\n",
    "display(energyNormSmooth_df.iloc[2].plot())\n",
    "plt.show()\n",
    "plt.close()"
   ]
  },
  {
   "cell_type": "code",
   "execution_count": null,
   "metadata": {},
   "outputs": [],
   "source": [
    "energyNormSmooth_2_df = energyNorm_df.rolling(window = 7*24, axis = 1).mean().iloc[:, 7*24 - 1:]"
   ]
  },
  {
   "cell_type": "code",
   "execution_count": null,
   "metadata": {},
   "outputs": [],
   "source": [
    "display(energyNormSmooth_2_df.iloc[0].plot());\n",
    "plt.show()\n",
    "plt.close()\n",
    "display(energyNormSmooth_2_df.iloc[1].plot())\n",
    "plt.show()\n",
    "plt.close()\n",
    "display(energyNormSmooth_2_df.iloc[2].plot())\n",
    "plt.show()\n",
    "plt.close()"
   ]
  },
  {
   "cell_type": "code",
   "execution_count": null,
   "metadata": {},
   "outputs": [],
   "source": [
    "all_labels_2 = []\n",
    "\n",
    "from tqdm.notebook import tqdm\n",
    "from tslearn.clustering import TimeSeriesKMeans\n",
    "import matplotlib.pyplot as plt\n",
    "from math import ceil\n",
    "import seaborn as sns\n",
    "\n",
    "\n",
    "for clusterCount in tqdm(range(4, 21)):\n",
    "    model = TimeSeriesKMeans(n_clusters = clusterCount, max_iter = 10, n_jobs = -1, random_state = 42)\n",
    "    labels = model.fit_predict(energyNormSmooth_df)\n",
    "    all_labels_2.append(labels)\n",
    "\n",
    "    fig, axes = plt.subplots(nrows = ceil(clusterCount/3), ncols = 3, figsize = (36, ceil(clusterCount/3)*8), facecolor = 'w')\n",
    "    for idx, ax in enumerate(axes.flat):\n",
    "        if idx < clusterCount:\n",
    "            temp_df = energyNorm_df[labels == idx]\n",
    "            sns.heatmap(temp_df, cbar = False, ax = ax)\n",
    "            plt.sca(ax)\n",
    "            plt.title(f'Cluster Nr. {idx}: {round(100*sum(labels == idx)/len(labels), 2)} % of all profiles ({sum(labels == idx)})', fontsize = 24)\n",
    "            plt.xlabel(None)\n",
    "            plt.xticks([])\n",
    "            plt.ylabel(None)\n",
    "            plt.yticks([])\n",
    "            plt.tight_layout()\n",
    "            plt.close()\n",
    "    fig.savefig(f'Moving average {clusterCount} clusters')"
   ]
  },
  {
   "cell_type": "code",
   "execution_count": null,
   "metadata": {},
   "outputs": [],
   "source": []
  },
  {
   "cell_type": "code",
   "execution_count": null,
   "metadata": {},
   "outputs": [],
   "source": []
  },
  {
   "cell_type": "code",
   "execution_count": null,
   "metadata": {},
   "outputs": [],
   "source": []
  }
 ],
 "metadata": {
  "kernelspec": {
   "display_name": "Python 3.10.4 ('DoppelGANger')",
   "language": "python",
   "name": "python3"
  },
  "language_info": {
   "codemirror_mode": {
    "name": "ipython",
    "version": 3
   },
   "file_extension": ".py",
   "mimetype": "text/x-python",
   "name": "python",
   "nbconvert_exporter": "python",
   "pygments_lexer": "ipython3",
   "version": "3.10.4"
  },
  "orig_nbformat": 4,
  "vscode": {
   "interpreter": {
    "hash": "79b4750ed2717c744363ddeeb308685b8aa38c66aec97c408e6db81441baebf7"
   }
  }
 },
 "nbformat": 4,
 "nbformat_minor": 2
}

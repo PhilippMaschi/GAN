{
 "cells": [
  {
   "cell_type": "raw",
   "metadata": {},
   "source": [
    "from preproc import import_and_preprocess_enercoop_load_profiles\n",
    "\n",
    "enercoop_df = import_and_preprocess_enercoop_load_profiles(r'data/all_load_profiles.json')\n",
    "enercoop_df.to_parquet(r'data/enercoop_load_profiles.parquet.gzip', compression = 'gzip')"
   ]
  },
  {
   "cell_type": "code",
   "execution_count": null,
   "metadata": {},
   "outputs": [],
   "source": [
    "import pandas as pd\n",
    "from sklearn.preprocessing import MinMaxScaler\n",
    "\n",
    "enercoop_df = pd.read_parquet(r'data/enercoop_load_profiles.parquet.gzip')\n",
    "\n",
    "windowSize = 24*7\n",
    "#windowSize = 24*7*30\n",
    "movAvg_df = enercoop_df.pivot_table(values = 'Consumed energy [Wh]', index = 'Profile', columns = 'Date')\n",
    "movAvg_df = movAvg_df.rolling(window = windowSize, axis = 1).mean()\n",
    "movAvg_df = movAvg_df.iloc[:, windowSize - 1:]\n",
    "movAvgNorm_df = movAvg_df.copy()\n",
    "movAvgNorm_df[::] = MinMaxScaler().fit_transform(movAvg_df.T).T"
   ]
  },
  {
   "cell_type": "code",
   "execution_count": null,
   "metadata": {},
   "outputs": [],
   "source": [
    "from tqdm.notebook import tqdm\n",
    "import matplotlib.pyplot as plt\n",
    "import seaborn as sns\n",
    "sns.set_theme(font_scale = 1.25)\n",
    "\n",
    "for item in tqdm(movAvgNorm_df.index):\n",
    "    plt.figure(figsize = (9.6, 7.2), facecolor = 'w')\n",
    "    movAvgNorm_df.loc[item].plot(title = f'Profile {item}', ylabel = 'Relative consumed energy', rot = 0)\n",
    "    plt.savefig(f'Profiles/{item}.png')\n",
    "    plt.close()"
   ]
  },
  {
   "cell_type": "code",
   "execution_count": null,
   "metadata": {},
   "outputs": [],
   "source": [
    "from sklearn.model_selection import GridSearchCV\n",
    "from tslearn.clustering import TimeSeriesKMeans"
   ]
  },
  {
   "cell_type": "code",
   "execution_count": null,
   "metadata": {},
   "outputs": [],
   "source": [
    "model = TimeSeriesKMeans(n_clusters = 4, n_jobs = -1, random_state = 42)\n",
    "labels = model.fit_predict(movAvgNorm_df)"
   ]
  },
  {
   "cell_type": "code",
   "execution_count": null,
   "metadata": {},
   "outputs": [],
   "source": []
  },
  {
   "cell_type": "code",
   "execution_count": null,
   "metadata": {},
   "outputs": [],
   "source": []
  },
  {
   "cell_type": "code",
   "execution_count": null,
   "metadata": {},
   "outputs": [],
   "source": []
  },
  {
   "cell_type": "code",
   "execution_count": null,
   "metadata": {},
   "outputs": [],
   "source": []
  },
  {
   "cell_type": "markdown",
   "metadata": {},
   "source": [
    "##### Test area"
   ]
  },
  {
   "cell_type": "code",
   "execution_count": null,
   "metadata": {},
   "outputs": [],
   "source": [
    "avgDay_df[' | '.join(featureSelection)] = avgDay_df['Meteorological season'] + ' | ' + avgDay_df['Hour of the day'].astype(str) + ' | ' + avgDay_df['Weekend'].astype(str)"
   ]
  },
  {
   "cell_type": "code",
   "execution_count": null,
   "metadata": {},
   "outputs": [],
   "source": [
    "enercoop_df[featureSelection].astype(str).agg(' | '.join, axis = 1)"
   ]
  },
  {
   "cell_type": "code",
   "execution_count": null,
   "metadata": {},
   "outputs": [],
   "source": [
    "enercoop_df[featureSelection].apply(lambda x: ' | '.join(x.astype(str)), axis = 1)"
   ]
  },
  {
   "cell_type": "code",
   "execution_count": null,
   "metadata": {},
   "outputs": [],
   "source": [
    "enercoopNorm_df.groupby(['Profile', 'Hour of the day']).agg({'Consumed energy [Wh]': np.mean})"
   ]
  },
  {
   "cell_type": "code",
   "execution_count": null,
   "metadata": {},
   "outputs": [],
   "source": [
    "import numpy as np\n",
    "\n",
    "avgDayNorm_df = enercoopNorm_df.groupby(['Profile', 'Hour of the day']).agg({'Consumed energy [Wh]': np.mean})\n",
    "avgDayNorm_df.reset_index(inplace = True)\n",
    "avgDayNorm_df.rename(columns = {'Consumed energy [Wh]': 'Consumed energy'}, inplace = True)"
   ]
  },
  {
   "cell_type": "code",
   "execution_count": null,
   "metadata": {},
   "outputs": [],
   "source": [
    "import matplotlib.pyplot as plt\n",
    "import seaborn as sns\n",
    "sns.set_theme(font_scale = 1.25)\n",
    "\n",
    "plt.figure(figsize = (9.6, 7.2))\n",
    "sns.lineplot(data = avgDayNorm_df, x = 'Hour of the day', y = 'Consumed energy', hue = 'Profile', legend = False);"
   ]
  },
  {
   "cell_type": "code",
   "execution_count": null,
   "metadata": {},
   "outputs": [],
   "source": [
    "from tslearn.clustering import TimeSeriesKMeans\n",
    "\n",
    "clusterCount = 2\n",
    "avgDayEnergyNorm_df = avgDayNorm_df.pivot_table(values = 'Consumed energy', index = 'Profile', columns = 'Hour of the day')\n",
    "model = TimeSeriesKMeans(n_clusters = clusterCount, metric = 'softdtw', max_iter = 10, n_jobs = -1, random_state = 42)\n",
    "labels = model.fit_predict(avgDayEnergyNorm_df)"
   ]
  },
  {
   "cell_type": "code",
   "execution_count": null,
   "metadata": {},
   "outputs": [],
   "source": [
    "cluster_list = [avgDayEnergyNorm_df[labels == item].index for item in range(clusterCount)]\n",
    "fig, axes = plt.subplots(ncols = 2, sharey = True, figsize = (19.2, 7.2))\n",
    "for item in range(clusterCount):\n",
    "    sns.lineplot(data = avgDayNorm_df.query(f\"`Profile` in @cluster_list[{item}]\"), x = 'Hour of the day', y = 'Consumed energy', hue = 'Profile', legend = False, ax = axes[item])\n",
    "fig.subplots_adjust(wspace = 0.025);"
   ]
  },
  {
   "cell_type": "code",
   "execution_count": null,
   "metadata": {},
   "outputs": [],
   "source": [
    "fig, axes = plt.subplots(ncols = 2, sharex = True, sharey = True)\n",
    "sns.lineplot(data = avgDayEnergyNorm_df[labels == 0], x = 'Hour of the day', y = 'Consumed energy', hue = 'Profile', legend = False, ax = axes[0])\n",
    "sns.lineplot(data = avgDayEnergyNorm_df[labels == 1], x = 'Hour of the day', y = 'Consumed energy', hue = 'Profile', legend = False, ax = axes[1])"
   ]
  },
  {
   "cell_type": "code",
   "execution_count": null,
   "metadata": {},
   "outputs": [],
   "source": [
    "avgDayEnergyNorm_df[labels == 0]"
   ]
  },
  {
   "cell_type": "code",
   "execution_count": null,
   "metadata": {},
   "outputs": [],
   "source": [
    "avgDayEnergyNorm_df[labels == 1]"
   ]
  },
  {
   "cell_type": "code",
   "execution_count": null,
   "metadata": {},
   "outputs": [],
   "source": []
  },
  {
   "cell_type": "code",
   "execution_count": null,
   "metadata": {},
   "outputs": [],
   "source": []
  },
  {
   "cell_type": "code",
   "execution_count": null,
   "metadata": {},
   "outputs": [],
   "source": []
  }
 ],
 "metadata": {
  "kernelspec": {
   "display_name": "Python 3.10.4 ('DoppelGANger')",
   "language": "python",
   "name": "python3"
  },
  "language_info": {
   "codemirror_mode": {
    "name": "ipython",
    "version": 3
   },
   "file_extension": ".py",
   "mimetype": "text/x-python",
   "name": "python",
   "nbconvert_exporter": "python",
   "pygments_lexer": "ipython3",
   "version": "3.10.4"
  },
  "orig_nbformat": 4,
  "vscode": {
   "interpreter": {
    "hash": "79b4750ed2717c744363ddeeb308685b8aa38c66aec97c408e6db81441baebf7"
   }
  }
 },
 "nbformat": 4,
 "nbformat_minor": 2
}
